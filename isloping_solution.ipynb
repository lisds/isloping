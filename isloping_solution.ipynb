{
 "cells": [
  {
   "cell_type": "markdown",
   "id": "a71b489c",
   "metadata": {},
   "source": [
    "# I, slope\n",
    "\n",
    "This exercise gives you some hands-on practice with linear regression."
   ]
  },
  {
   "cell_type": "code",
   "execution_count": 1,
   "id": "beadb63e",
   "metadata": {
    "execution": {
     "iopub.execute_input": "2022-11-18T09:23:19.004629Z",
     "iopub.status.busy": "2022-11-18T09:23:19.004051Z",
     "iopub.status.idle": "2022-11-18T09:23:21.830483Z",
     "shell.execute_reply": "2022-11-18T09:23:21.830106Z"
    }
   },
   "outputs": [],
   "source": [
    "# Run this cell, but please don't change it.\n",
    "\n",
    "# These lines import the Numpy and Pandas modules.\n",
    "import numpy as np\n",
    "import pandas as pd\n",
    "from scipy.optimize import minimize\n",
    "\n",
    "# These lines do some fancy plotting magic.\n",
    "import matplotlib\n",
    "import matplotlib.pyplot as plt\n",
    "plt.style.use('fivethirtyeight')\n",
    "\n",
    "# These lines load the tests.\n",
    "from client.api.notebook import Notebook\n",
    "ok = Notebook('isloping.ok')"
   ]
  },
  {
   "cell_type": "markdown",
   "id": "d7f6ed67",
   "metadata": {},
   "source": [
    "## Hemoglobin and serum creatinine\n",
    "\n",
    "We start by loading the [data on chronic kidney disease](https://lisds.github.io/textbook/data/chronic_kidney_disease)."
   ]
  },
  {
   "cell_type": "code",
   "execution_count": 2,
   "id": "e3c449a0",
   "metadata": {
    "execution": {
     "iopub.execute_input": "2022-11-18T09:23:21.832739Z",
     "iopub.status.busy": "2022-11-18T09:23:21.832530Z",
     "iopub.status.idle": "2022-11-18T09:23:21.852523Z",
     "shell.execute_reply": "2022-11-18T09:23:21.852148Z"
    }
   },
   "outputs": [],
   "source": [
    "ckd = pd.read_csv('ckd_clean.csv')\n",
    "ckd.head()"
   ]
  },
  {
   "cell_type": "markdown",
   "id": "07594ff8",
   "metadata": {},
   "source": [
    "Our interest here is in two variables / columns:\n",
    "\n",
    "* \"Hemoglobin\" : the concentration of the protein in red blood cells.  This\n",
    "  tends to go down in chronic kidney disease.\n",
    "* \"Serum creatinine\" : this is a measure of how well the kidney is clearing\n",
    "  waste products from the blood.  If your kidneys are working well, your\n",
    "  creatinine should be low."
   ]
  },
  {
   "cell_type": "code",
   "execution_count": 3,
   "id": "33297b0f",
   "metadata": {
    "execution": {
     "iopub.execute_input": "2022-11-18T09:23:21.854525Z",
     "iopub.status.busy": "2022-11-18T09:23:21.854373Z",
     "iopub.status.idle": "2022-11-18T09:23:21.856577Z",
     "shell.execute_reply": "2022-11-18T09:23:21.856238Z"
    }
   },
   "outputs": [],
   "source": [
    "hgb = np.array(ckd['Hemoglobin'])\n",
    "creat = np.array(ckd['Serum Creatinine'])"
   ]
  },
  {
   "cell_type": "markdown",
   "id": "8b3a782a",
   "metadata": {},
   "source": [
    "First we do a simple plot."
   ]
  },
  {
   "cell_type": "code",
   "execution_count": 4,
   "id": "17061df1",
   "metadata": {
    "execution": {
     "iopub.execute_input": "2022-11-18T09:23:21.858472Z",
     "iopub.status.busy": "2022-11-18T09:23:21.858331Z",
     "iopub.status.idle": "2022-11-18T09:23:22.015974Z",
     "shell.execute_reply": "2022-11-18T09:23:22.015552Z"
    }
   },
   "outputs": [],
   "source": [
    "ckd.plot.scatter('Hemoglobin', 'Serum Creatinine')"
   ]
  },
  {
   "cell_type": "markdown",
   "id": "05793ffc",
   "metadata": {},
   "source": [
    "To guess at the intercept, we make our job easier by forcing the plot library to include the x=0, y=0 point on the plot."
   ]
  },
  {
   "cell_type": "code",
   "execution_count": 5,
   "id": "cede6356",
   "metadata": {
    "execution": {
     "iopub.execute_input": "2022-11-18T09:23:22.018246Z",
     "iopub.status.busy": "2022-11-18T09:23:22.018080Z",
     "iopub.status.idle": "2022-11-18T09:23:22.127619Z",
     "shell.execute_reply": "2022-11-18T09:23:22.127209Z"
    }
   },
   "outputs": [],
   "source": [
    "ckd.plot.scatter('Hemoglobin', 'Serum Creatinine')\n",
    "# Make sure 0, 0 is on the plot.\n",
    "plt.axis([0, 18, 0, 15])"
   ]
  },
  {
   "cell_type": "markdown",
   "id": "6a4632fb",
   "metadata": {},
   "source": [
    "Looking at this plot, we see that a straight is not very good predictor for\n",
    "the data.  It looks as though a straight line would be useful for the kidney\n",
    "patient values, with relatively low hemoglobin and high creatinine, but it\n",
    "would not be a good prediction for the pack of not-kidney patients at the\n",
    "bottom left of the plot, with high hemoglobin and low creatinine.\n",
    "\n",
    "Ignoring that problem for now, we eyeball the plot, and guess that a good straight line would have an intercept of around 12, and a slope of around -1.\n",
    "\n",
    "The line gives us the following predictions for the y (creatinine) values:"
   ]
  },
  {
   "cell_type": "code",
   "execution_count": 6,
   "id": "43597220",
   "metadata": {
    "execution": {
     "iopub.execute_input": "2022-11-18T09:23:22.129785Z",
     "iopub.status.busy": "2022-11-18T09:23:22.129628Z",
     "iopub.status.idle": "2022-11-18T09:23:22.131883Z",
     "shell.execute_reply": "2022-11-18T09:23:22.131502Z"
    }
   },
   "outputs": [],
   "source": [
    "predicted = 12 + hgb * -1"
   ]
  },
  {
   "cell_type": "markdown",
   "id": "fd67e302",
   "metadata": {},
   "source": [
    "The errors are:"
   ]
  },
  {
   "cell_type": "code",
   "execution_count": 7,
   "id": "dc01b870",
   "metadata": {
    "execution": {
     "iopub.execute_input": "2022-11-18T09:23:22.134038Z",
     "iopub.status.busy": "2022-11-18T09:23:22.133880Z",
     "iopub.status.idle": "2022-11-18T09:23:22.135870Z",
     "shell.execute_reply": "2022-11-18T09:23:22.135497Z"
    }
   },
   "outputs": [],
   "source": [
    "errors = creat - predicted"
   ]
  },
  {
   "cell_type": "markdown",
   "id": "af9421a3",
   "metadata": {},
   "source": [
    "We plot this guessed line on the data."
   ]
  },
  {
   "cell_type": "code",
   "execution_count": 8,
   "id": "5a362d1d",
   "metadata": {
    "execution": {
     "iopub.execute_input": "2022-11-18T09:23:22.137875Z",
     "iopub.status.busy": "2022-11-18T09:23:22.137725Z",
     "iopub.status.idle": "2022-11-18T09:23:22.297365Z",
     "shell.execute_reply": "2022-11-18T09:23:22.296995Z"
    }
   },
   "outputs": [],
   "source": [
    "# Don't worry about this code, it's just to plot the line, and the errors.\n",
    "plt.plot(hgb, creat, 'o')\n",
    "plt.plot(hgb, predicted, 'o', color='red')\n",
    "# Draw a line between predicted and actual\n",
    "for i in np.arange(len(hgb)):\n",
    "    x = hgb[i]\n",
    "    y_0 = predicted[i]\n",
    "    y_1 = creat[i]\n",
    "    plt.plot([x, x], [y_0, y_1], ':', color='black', linewidth=1)"
   ]
  },
  {
   "cell_type": "markdown",
   "id": "60e969b5",
   "metadata": {},
   "source": [
    "Now your job is to find the best (least-squares) line fitting `hgb` (on the x axis) to `creat` (on the y axis).\n",
    "\n",
    "To help you, here is the `ss_any_line` function from [using minimize](https://lisds.github.io/textbook/mean-slopes/using_minimize)."
   ]
  },
  {
   "cell_type": "code",
   "execution_count": 9,
   "id": "3f77f4fb",
   "metadata": {
    "execution": {
     "iopub.execute_input": "2022-11-18T09:23:22.299557Z",
     "iopub.status.busy": "2022-11-18T09:23:22.299399Z",
     "iopub.status.idle": "2022-11-18T09:23:22.302004Z",
     "shell.execute_reply": "2022-11-18T09:23:22.301665Z"
    }
   },
   "outputs": [],
   "source": [
    "def ss_any_line(c_s, x_values, y_values):\n",
    "    c, s = c_s\n",
    "    predicted = c + x_values * s\n",
    "    error = y_values - predicted\n",
    "    return np.sum(error ** 2)"
   ]
  },
  {
   "cell_type": "markdown",
   "id": "4faa0890",
   "metadata": {},
   "source": [
    "Use this function to calculate the sum of squares error for a line with\n",
    "intercept 12 and slope -1."
   ]
  },
  {
   "cell_type": "code",
   "execution_count": 10,
   "id": "5c57303d",
   "metadata": {
    "execution": {
     "iopub.execute_input": "2022-11-18T09:23:22.304062Z",
     "iopub.status.busy": "2022-11-18T09:23:22.303909Z",
     "iopub.status.idle": "2022-11-18T09:23:22.306682Z",
     "shell.execute_reply": "2022-11-18T09:23:22.306316Z"
    }
   },
   "outputs": [],
   "source": [
    "ss_guessed = ss_any_line([12, -1], hgb, creat)\n",
    "ss_guessed"
   ]
  },
  {
   "cell_type": "code",
   "execution_count": 11,
   "id": "4ed50ff7",
   "metadata": {
    "execution": {
     "iopub.execute_input": "2022-11-18T09:23:22.308549Z",
     "iopub.status.busy": "2022-11-18T09:23:22.308399Z",
     "iopub.status.idle": "2022-11-18T09:23:22.327091Z",
     "shell.execute_reply": "2022-11-18T09:23:22.326644Z"
    }
   },
   "outputs": [],
   "source": [
    "_ = ok.grade('q_1_guessed_line')"
   ]
  },
  {
   "cell_type": "markdown",
   "id": "496ae020",
   "metadata": {},
   "source": [
    "Now use `minimize` to calculate the best fit intercept and slope:"
   ]
  },
  {
   "cell_type": "code",
   "execution_count": 12,
   "id": "6a1d0ef4",
   "metadata": {
    "execution": {
     "iopub.execute_input": "2022-11-18T09:23:22.330930Z",
     "iopub.status.busy": "2022-11-18T09:23:22.330783Z",
     "iopub.status.idle": "2022-11-18T09:23:22.336515Z",
     "shell.execute_reply": "2022-11-18T09:23:22.336176Z"
    }
   },
   "outputs": [],
   "source": [
    "results = minimize(ss_any_line, [12, -1], args=(hgb, creat))\n",
    "best_inter, best_slope = results.x\n",
    "print(best_inter)\n",
    "print(best_slope)"
   ]
  },
  {
   "cell_type": "code",
   "execution_count": 13,
   "id": "19d0e7a6",
   "metadata": {
    "execution": {
     "iopub.execute_input": "2022-11-18T09:23:22.338646Z",
     "iopub.status.busy": "2022-11-18T09:23:22.338492Z",
     "iopub.status.idle": "2022-11-18T09:23:22.347866Z",
     "shell.execute_reply": "2022-11-18T09:23:22.347428Z"
    }
   },
   "outputs": [],
   "source": [
    "_ = ok.grade('q_2_best_line')"
   ]
  },
  {
   "cell_type": "markdown",
   "id": "74ef76b2",
   "metadata": {},
   "source": [
    "## Done\n",
    "\n",
    "You're finished with the assignment!  Be sure to...\n",
    "\n",
    "- **run all the tests** (the next cell has a shortcut for that),\n",
    "- **Save and Checkpoint** from the \"File\" menu.\n",
    "- Finally, **restart** the kernel for this notebook, and **run all the cells**,\n",
    "  to check that the notebook still works without errors.  Use the\n",
    "  \"Kernel\" menu, and choose \"Restart and run all\".  If you find any\n",
    "  problems, go back and fix them, save the notebook, and restart / run\n",
    "  all again, before submitting.  When you do this, you make sure that\n",
    "  we, your humble markers, will be able to mark your notebook."
   ]
  },
  {
   "cell_type": "code",
   "execution_count": 14,
   "id": "8fc49651",
   "metadata": {
    "execution": {
     "iopub.execute_input": "2022-11-18T09:23:22.351648Z",
     "iopub.status.busy": "2022-11-18T09:23:22.351502Z",
     "iopub.status.idle": "2022-11-18T09:23:22.369440Z",
     "shell.execute_reply": "2022-11-18T09:23:22.369011Z"
    }
   },
   "outputs": [],
   "source": [
    "# For your convenience, you can run this cell to run all the tests at once!\n",
    "import os\n",
    "_ = [ok.grade(q[:-3]) for q in os.listdir(\"tests\") if q.startswith('q')]"
   ]
  }
 ],
 "metadata": {
  "jupytext": {
   "notebook_metadata_filter": "all,-language_info",
   "split_at_heading": true,
   "text_representation": {
    "extension": ".Rmd",
    "format_name": "rmarkdown",
    "format_version": "1.2",
    "jupytext_version": "1.8.2"
   }
  },
  "kernelspec": {
   "display_name": "Python 3",
   "language": "python",
   "name": "python3"
  },
  "language_info": {
   "codemirror_mode": {
    "name": "ipython",
    "version": 3
   },
   "file_extension": ".py",
   "mimetype": "text/x-python",
   "name": "python",
   "nbconvert_exporter": "python",
   "pygments_lexer": "ipython3",
   "version": "3.10.7"
  }
 },
 "nbformat": 4,
 "nbformat_minor": 5
}
